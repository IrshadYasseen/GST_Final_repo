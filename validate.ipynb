{
 "cells": [
  {
   "cell_type": "code",
   "execution_count": 1,
   "metadata": {},
   "outputs": [],
   "source": [
    "# Import necessary libraries\n",
    "import numpy as np\n",
    "import pandas as pd\n",
    "from sklearn.metrics import accuracy_score, confusion_matrix, precision_score, recall_score, f1_score, classification_report\n",
    "import joblib\n",
    "from lightgbm import LGBMClassifier"
   ]
  },
  {
   "cell_type": "code",
   "execution_count": 2,
   "metadata": {},
   "outputs": [],
   "source": [
    "# Set display option to show all rows\n",
    "pd.set_option('display.max_rows', None)\n",
    "\n",
    "# Set displaxx option to show all columns\n",
    "pd.set_option('display.max_columns', None)\n",
    "\n",
    "# Set the displax width to None (auto-detect width)\n",
    "pd.set_option('display.width', None)\n",
    "\n",
    "# If necessary, control the column width to prevent truncation\n",
    "pd.set_option('display.max_colwidth', None)"
   ]
  },
  {
   "cell_type": "code",
   "execution_count": 5,
   "metadata": {},
   "outputs": [],
   "source": [
    "merged_train=pd.read_csv(\"merged_train.csv\") #input the transformed train\n",
    "merged_test=pd.read_csv(\"merged_test.csv\") #input the transformed test"
   ]
  },
  {
   "cell_type": "code",
   "execution_count": 6,
   "metadata": {},
   "outputs": [],
   "source": [
    "X_train=merged_train.drop(['Unnamed: 0','target'],axis=1)\n",
    "y_train=merged_train['target']\n",
    "X_test=merged_test.drop(['Unnamed: 0','target'],axis=1)\n",
    "y_test=merged_test['target']"
   ]
  },
  {
   "cell_type": "code",
   "execution_count": 7,
   "metadata": {},
   "outputs": [],
   "source": [
    "\n",
    "lightgbm_params = {\n",
    "    'n_estimators': 100,              # Number of boosting iterations\n",
    "    'learning_rate': 0.1,             # Step size\n",
    "    'num_leaves': 31,                 # Maximum number of leaves in one tree\n",
    "    'max_depth': -1,                  # Maximum depth of the tree, -1 means no limit\n",
    "    'scale_pos_weight': 1,            # Balancing of positive and negative weights\n",
    "}"
   ]
  },
  {
   "cell_type": "code",
   "execution_count": 12,
   "metadata": {},
   "outputs": [],
   "source": [
    "# Define a dictionary of models\n",
    "models = {\n",
    "    \"LightGBM\": LGBMClassifier(**lightgbm_params)   \n",
    "}\n"
   ]
  },
  {
   "cell_type": "code",
   "execution_count": 9,
   "metadata": {},
   "outputs": [],
   "source": [
    "import joblib"
   ]
  },
  {
   "cell_type": "code",
   "execution_count": 11,
   "metadata": {},
   "outputs": [
    {
     "name": "stdout",
     "output_type": "stream",
     "text": [
      "Evaluating LightGBM...\n",
      "[LightGBM] [Info] Number of positive: 74033, number of negative: 711100\n",
      "[LightGBM] [Info] Auto-choosing row-wise multi-threading, the overhead of testing was 0.029618 seconds.\n",
      "You can set `force_row_wise=true` to remove the overhead.\n",
      "And if memory is not enough, you can set `force_col_wise=true`.\n",
      "[LightGBM] [Info] Total Bins 2528\n",
      "[LightGBM] [Info] Number of data points in the train set: 785133, number of used features: 22\n",
      "[LightGBM] [Info] [binary:BoostFromScore]: pavg=0.094294 -> initscore=-2.262302\n",
      "[LightGBM] [Info] Start training from score -2.262302\n",
      "Accuracy: 0.978281469707159\n",
      "Confusion Matrix:\n",
      "[[232798   4236]\n",
      " [  1448  23230]]\n",
      "Precision: 0.8457729556542635\n",
      "Recall: 0.9413242564227247\n",
      "F1 Score: 0.8909941699907947\n",
      "\n",
      "--------------------------------------------------\n",
      "\n"
     ]
    }
   ],
   "source": [
    "# Function to evaluate model performance\n",
    "def evaluate_model(model, X_train, y_train, X_test, y_test):\n",
    "    model.fit(X_train, y_train)\n",
    "    \n",
    "    y_pred = model.predict(X_test)\n",
    "    \n",
    "    accuracy = accuracy_score(y_test, y_pred)\n",
    "    conf_matrix = confusion_matrix(y_test, y_pred)\n",
    "    precision = precision_score(y_test, y_pred)\n",
    "    recall = recall_score(y_test, y_pred)\n",
    "    f1 = f1_score(y_test, y_pred)\n",
    "    \n",
    "    print(f\"Accuracy: {accuracy}\")\n",
    "    print(f\"Confusion Matrix:\\n{conf_matrix}\")\n",
    "    print(f\"Precision: {precision}\")\n",
    "    print(f\"Recall: {recall}\")\n",
    "    print(f\"F1 Score: {f1}\")\n",
    "    print(\"\\n\" + \"-\"*50 + \"\\n\")\n",
    "    joblib.dump(model,\"lgbm.pkl\")\n",
    "    \n",
    "    \n",
    "    return accuracy, conf_matrix, precision, recall, f1\n",
    "\n",
    "# Train and evaluate each model\n",
    "results = {}\n",
    "for name, model in models.items():\n",
    "    print(f\"Evaluating {name}...\")\n",
    "    \n",
    "    results[name] = evaluate_model(model, X_train, y_train, X_test, y_test)\n",
    "\n",
    "\n"
   ]
  },
  {
   "cell_type": "code",
   "execution_count": null,
   "metadata": {},
   "outputs": [],
   "source": []
  },
  {
   "cell_type": "code",
   "execution_count": null,
   "metadata": {},
   "outputs": [],
   "source": []
  }
 ],
 "metadata": {
  "kernelspec": {
   "display_name": "Python 3 (ipykernel)",
   "language": "python",
   "name": "python3"
  },
  "language_info": {
   "codemirror_mode": {
    "name": "ipython",
    "version": 3
   },
   "file_extension": ".py",
   "mimetype": "text/x-python",
   "name": "python",
   "nbconvert_exporter": "python",
   "pygments_lexer": "ipython3",
   "version": "3.10.12"
  }
 },
 "nbformat": 4,
 "nbformat_minor": 2
}
